{
 "cells": [
  {
   "cell_type": "markdown",
   "metadata": {},
   "source": [
    "Anscombe's Quartet:\n",
    "\n",
    "Anscombe’s quartet consists of 4 datasets that have very similar x and y values, however once plotted on a graph, each one is entirely different.  These datasets were developed by Francis Ancombe in 1973. Francis was an English statistician who was educated at the University of Cambridge. It is important to note the value for x in the first 3 datasets is exactly the same throughout and that each dataset is made up of eleven points on the x and y axis.  ( Anscombe, F. J. (1973). \"Graphs in Statistical Analysis\". American Statistician. 27 (1): 17–21)"
   ]
  }
 ],
 "metadata": {
  "kernelspec": {
   "display_name": "Python 3",
   "language": "python",
   "name": "python3"
  },
  "language_info": {
   "codemirror_mode": {
    "name": "ipython",
    "version": 3
   },
   "file_extension": ".py",
   "mimetype": "text/x-python",
   "name": "python",
   "nbconvert_exporter": "python",
   "pygments_lexer": "ipython3",
   "version": "3.6.3"
  }
 },
 "nbformat": 4,
 "nbformat_minor": 2
}
